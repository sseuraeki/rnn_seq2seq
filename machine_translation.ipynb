{
 "cells": [
  {
   "cell_type": "markdown",
   "metadata": {
    "collapsed": true
   },
   "source": [
    "# Artificial Intelligence Nanodegree\n",
    "## Machine Translation Project\n",
    "In this notebook, sections that end with **'(IMPLEMENTATION)'** in the header indicate that the following blocks of code will require additional functionality which you must provide. Please be sure to read the instructions carefully!\n",
    "\n",
    "## Introduction\n",
    "In this notebook, you will build a deep neural network that functions as part of an end-to-end machine translation pipeline. Your completed pipeline will accept English text as input and return the French translation.\n",
    "\n",
    "- **Preprocess** - You'll convert text to sequence of integers.\n",
    "- **Models** Create models which accepts a sequence of integers as input and returns a probability distribution over possible translations. After learning about the basic types of neural networks that are often used for machine translation, you will engage in your own investigations, to design your own model!\n",
    "- **Prediction** Run the model on English text."
   ]
  },
  {
   "cell_type": "code",
   "execution_count": 1,
   "metadata": {},
   "outputs": [],
   "source": [
    "%load_ext autoreload\n",
    "%aimport helper, tests\n",
    "%autoreload 1"
   ]
  },
  {
   "cell_type": "code",
   "execution_count": 2,
   "metadata": {},
   "outputs": [
    {
     "name": "stderr",
     "output_type": "stream",
     "text": [
      "Using TensorFlow backend.\n"
     ]
    }
   ],
   "source": [
    "import collections\n",
    "\n",
    "import helper\n",
    "import numpy as np\n",
    "import project_tests as tests\n",
    "\n",
    "from keras.preprocessing.text import Tokenizer\n",
    "from keras.preprocessing.sequence import pad_sequences\n",
    "from keras.models import Model\n",
    "from keras.layers import GRU, Input, Dense, TimeDistributed, Activation, RepeatVector, Bidirectional\n",
    "from keras.layers.embeddings import Embedding\n",
    "from keras.optimizers import Adam\n",
    "from keras.losses import sparse_categorical_crossentropy"
   ]
  },
  {
   "cell_type": "markdown",
   "metadata": {},
   "source": [
    "### Verify access to the GPU\n",
    "The following test applies only if you expect to be using a GPU, e.g., while running in a Udacity Workspace or using an AWS instance with GPU support. Run the next cell, and verify that the device_type is \"GPU\".\n",
    "- If the device is not GPU & you are running from a Udacity Workspace, then save your workspace with the icon at the top, then click \"enable\" at the bottom of the workspace.\n",
    "- If the device is not GPU & you are running from an AWS instance, then refer to the cloud computing instructions in the classroom to verify your setup steps."
   ]
  },
  {
   "cell_type": "code",
   "execution_count": 3,
   "metadata": {},
   "outputs": [
    {
     "name": "stdout",
     "output_type": "stream",
     "text": [
      "[name: \"/cpu:0\"\n",
      "device_type: \"CPU\"\n",
      "memory_limit: 268435456\n",
      "locality {\n",
      "}\n",
      "incarnation: 9166859029609435001\n",
      ", name: \"/gpu:0\"\n",
      "device_type: \"GPU\"\n",
      "memory_limit: 357171200\n",
      "locality {\n",
      "  bus_id: 1\n",
      "}\n",
      "incarnation: 3320362682486988606\n",
      "physical_device_desc: \"device: 0, name: Tesla K80, pci bus id: 0000:00:04.0\"\n",
      "]\n"
     ]
    }
   ],
   "source": [
    "from tensorflow.python.client import device_lib\n",
    "print(device_lib.list_local_devices())"
   ]
  },
  {
   "cell_type": "markdown",
   "metadata": {},
   "source": [
    "## Dataset\n",
    "We begin by investigating the dataset that will be used to train and evaluate your pipeline.  The most common datasets used for machine translation are from [WMT](http://www.statmt.org/).  However, that will take a long time to train a neural network on.  We'll be using a dataset we created for this project that contains a small vocabulary.  You'll be able to train your model in a reasonable time with this dataset.\n",
    "### Load Data\n",
    "The data is located in `data/small_vocab_en` and `data/small_vocab_fr`. The `small_vocab_en` file contains English sentences with their French translations in the `small_vocab_fr` file. Load the English and French data from these files from running the cell below."
   ]
  },
  {
   "cell_type": "code",
   "execution_count": 4,
   "metadata": {},
   "outputs": [
    {
     "name": "stdout",
     "output_type": "stream",
     "text": [
      "Dataset Loaded\n"
     ]
    }
   ],
   "source": [
    "# Load English data\n",
    "english_sentences = helper.load_data('data/small_vocab_en')\n",
    "# Load French data\n",
    "french_sentences = helper.load_data('data/small_vocab_fr')\n",
    "\n",
    "print('Dataset Loaded')"
   ]
  },
  {
   "cell_type": "markdown",
   "metadata": {},
   "source": [
    "### Files\n",
    "Each line in `small_vocab_en` contains an English sentence with the respective translation in each line of `small_vocab_fr`.  View the first two lines from each file."
   ]
  },
  {
   "cell_type": "code",
   "execution_count": 5,
   "metadata": {},
   "outputs": [
    {
     "name": "stdout",
     "output_type": "stream",
     "text": [
      "small_vocab_en Line 1:  new jersey is sometimes quiet during autumn , and it is snowy in april .\n",
      "small_vocab_fr Line 1:  new jersey est parfois calme pendant l' automne , et il est neigeux en avril .\n",
      "small_vocab_en Line 2:  the united states is usually chilly during july , and it is usually freezing in november .\n",
      "small_vocab_fr Line 2:  les états-unis est généralement froid en juillet , et il gèle habituellement en novembre .\n"
     ]
    }
   ],
   "source": [
    "for sample_i in range(2):\n",
    "    print('small_vocab_en Line {}:  {}'.format(sample_i + 1, english_sentences[sample_i]))\n",
    "    print('small_vocab_fr Line {}:  {}'.format(sample_i + 1, french_sentences[sample_i]))"
   ]
  },
  {
   "cell_type": "markdown",
   "metadata": {},
   "source": [
    "From looking at the sentences, you can see they have been preprocessed already.  The puncuations have been delimited using spaces. All the text have been converted to lowercase.  This should save you some time, but the text requires more preprocessing.\n",
    "### Vocabulary\n",
    "The complexity of the problem is determined by the complexity of the vocabulary.  A more complex vocabulary is a more complex problem.  Let's look at the complexity of the dataset we'll be working with."
   ]
  },
  {
   "cell_type": "code",
   "execution_count": 6,
   "metadata": {},
   "outputs": [
    {
     "name": "stdout",
     "output_type": "stream",
     "text": [
      "1823250 English words.\n",
      "227 unique English words.\n",
      "10 Most common words in the English dataset:\n",
      "\"is\" \",\" \".\" \"in\" \"it\" \"during\" \"the\" \"but\" \"and\" \"sometimes\"\n",
      "\n",
      "1961295 French words.\n",
      "355 unique French words.\n",
      "10 Most common words in the French dataset:\n",
      "\"est\" \".\" \",\" \"en\" \"il\" \"les\" \"mais\" \"et\" \"la\" \"parfois\"\n"
     ]
    }
   ],
   "source": [
    "english_words_counter = collections.Counter([word for sentence in english_sentences for word in sentence.split()])\n",
    "french_words_counter = collections.Counter([word for sentence in french_sentences for word in sentence.split()])\n",
    "\n",
    "print('{} English words.'.format(len([word for sentence in english_sentences for word in sentence.split()])))\n",
    "print('{} unique English words.'.format(len(english_words_counter)))\n",
    "print('10 Most common words in the English dataset:')\n",
    "print('\"' + '\" \"'.join(list(zip(*english_words_counter.most_common(10)))[0]) + '\"')\n",
    "print()\n",
    "print('{} French words.'.format(len([word for sentence in french_sentences for word in sentence.split()])))\n",
    "print('{} unique French words.'.format(len(french_words_counter)))\n",
    "print('10 Most common words in the French dataset:')\n",
    "print('\"' + '\" \"'.join(list(zip(*french_words_counter.most_common(10)))[0]) + '\"')"
   ]
  },
  {
   "cell_type": "markdown",
   "metadata": {},
   "source": [
    "For comparison, _Alice's Adventures in Wonderland_ contains 2,766 unique words of a total of 15,500 words.\n",
    "## Preprocess\n",
    "For this project, you won't use text data as input to your model. Instead, you'll convert the text into sequences of integers using the following preprocess methods:\n",
    "1. Tokenize the words into ids\n",
    "2. Add padding to make all the sequences the same length.\n",
    "\n",
    "Time to start preprocessing the data...\n",
    "### Tokenize (IMPLEMENTATION)\n",
    "For a neural network to predict on text data, it first has to be turned into data it can understand. Text data like \"dog\" is a sequence of ASCII character encodings.  Since a neural network is a series of multiplication and addition operations, the input data needs to be number(s).\n",
    "\n",
    "We can turn each character into a number or each word into a number.  These are called character and word ids, respectively.  Character ids are used for character level models that generate text predictions for each character.  A word level model uses word ids that generate text predictions for each word.  Word level models tend to learn better, since they are lower in complexity, so we'll use those.\n",
    "\n",
    "Turn each sentence into a sequence of words ids using Keras's [`Tokenizer`](https://keras.io/preprocessing/text/#tokenizer) function. Use this function to tokenize `english_sentences` and `french_sentences` in the cell below.\n",
    "\n",
    "Running the cell will run `tokenize` on sample data and show output for debugging."
   ]
  },
  {
   "cell_type": "code",
   "execution_count": 7,
   "metadata": {},
   "outputs": [
    {
     "name": "stdout",
     "output_type": "stream",
     "text": [
      "{'.': 1, 'the': 2, 'quick': 3, 'a': 4, 'brown': 5, 'fox': 6, 'jumps': 7, 'over': 8, 'lazy': 9, 'dog': 10, 'by': 11, 'jove': 12, ',': 13, 'my': 14, 'study': 15, 'of': 16, 'lexicography': 17, 'won': 18, 'prize': 19, 'this': 20, 'is': 21, 'short': 22, 'sentence': 23}\n",
      "\n",
      "Sequence 1 in x\n",
      "  Input:  The quick brown fox jumps over the lazy dog .\n",
      "  Output: [2, 3, 5, 6, 7, 8, 2, 9, 10, 1]\n",
      "Sequence 2 in x\n",
      "  Input:  By Jove , my quick study of lexicography won a prize .\n",
      "  Output: [11, 12, 13, 14, 3, 15, 16, 17, 18, 4, 19, 1]\n",
      "Sequence 3 in x\n",
      "  Input:  This is a short sentence .\n",
      "  Output: [20, 21, 4, 22, 23, 1]\n"
     ]
    }
   ],
   "source": [
    "def tokenize(x):\n",
    "    \"\"\"\n",
    "    Tokenize x\n",
    "    :param x: List of sentences/strings to be tokenized\n",
    "    :return: Tuple of (tokenized x data, tokenizer used to tokenize x)\n",
    "    \"\"\"\n",
    "    # TODO: Implement\n",
    "    T = Tokenizer(filters='') # don't use filters, keep punctuations\n",
    "    # fit on input data\n",
    "    T.fit_on_texts(x)\n",
    "    # transform texts to sequences\n",
    "    sequences = T.texts_to_sequences(x)\n",
    "    return sequences, T\n",
    "tests.test_tokenize(tokenize)\n",
    "\n",
    "# Tokenize Example output\n",
    "text_sentences = [\n",
    "    'The quick brown fox jumps over the lazy dog .',\n",
    "    'By Jove , my quick study of lexicography won a prize .',\n",
    "    'This is a short sentence .']\n",
    "text_tokenized, text_tokenizer = tokenize(text_sentences)\n",
    "print(text_tokenizer.word_index)\n",
    "print()\n",
    "for sample_i, (sent, token_sent) in enumerate(zip(text_sentences, text_tokenized)):\n",
    "    print('Sequence {} in x'.format(sample_i + 1))\n",
    "    print('  Input:  {}'.format(sent))\n",
    "    print('  Output: {}'.format(token_sent))"
   ]
  },
  {
   "cell_type": "markdown",
   "metadata": {},
   "source": [
    "### Padding (IMPLEMENTATION)\n",
    "When batching the sequence of word ids together, each sequence needs to be the same length.  Since sentences are dynamic in length, we can add padding to the end of the sequences to make them the same length.\n",
    "\n",
    "Make sure all the English sequences have the same length and all the French sequences have the same length by adding padding to the **end** of each sequence using Keras's [`pad_sequences`](https://keras.io/preprocessing/sequence/#pad_sequences) function."
   ]
  },
  {
   "cell_type": "code",
   "execution_count": 8,
   "metadata": {},
   "outputs": [
    {
     "name": "stdout",
     "output_type": "stream",
     "text": [
      "Sequence 1 in x\n",
      "  Input:  [ 2  3  5  6  7  8  2  9 10  1]\n",
      "  Output: [ 2  3  5  6  7  8  2  9 10  1  0  0]\n",
      "Sequence 2 in x\n",
      "  Input:  [11 12 13 14  3 15 16 17 18  4 19  1]\n",
      "  Output: [11 12 13 14  3 15 16 17 18  4 19  1]\n",
      "Sequence 3 in x\n",
      "  Input:  [20 21  4 22 23  1]\n",
      "  Output: [20 21  4 22 23  1  0  0  0  0  0  0]\n"
     ]
    }
   ],
   "source": [
    "def pad(x, length=None):\n",
    "    \"\"\"\n",
    "    Pad x\n",
    "    :param x: List of sequences.\n",
    "    :param length: Length to pad the sequence to.  If None, use length of longest sequence in x.\n",
    "    :return: Padded numpy array of sequences\n",
    "    \"\"\"\n",
    "    # TODO: Implement\n",
    "    \n",
    "    # get the max length of sequences\n",
    "    maxlen = 0\n",
    "    if length is None:\n",
    "        for seq in x:\n",
    "            if len(seq) > maxlen:\n",
    "                maxlen = len(seq)\n",
    "    else:\n",
    "        maxlen = length # if length argument is given\n",
    "    \n",
    "    padded = pad_sequences(sequences=x, # input data\n",
    "                           maxlen=maxlen, # length to pad the sequence to \n",
    "                           dtype='int32', # default data type for padding\n",
    "                           padding='post', # add padding to the end\n",
    "                           value=0.0) # default padding value to fill in\n",
    "    return padded\n",
    "tests.test_pad(pad)\n",
    "\n",
    "# Pad Tokenized output\n",
    "test_pad = pad(text_tokenized)\n",
    "for sample_i, (token_sent, pad_sent) in enumerate(zip(text_tokenized, test_pad)):\n",
    "    print('Sequence {} in x'.format(sample_i + 1))\n",
    "    print('  Input:  {}'.format(np.array(token_sent)))\n",
    "    print('  Output: {}'.format(pad_sent))"
   ]
  },
  {
   "cell_type": "markdown",
   "metadata": {},
   "source": [
    "### Preprocess Pipeline\n",
    "Your focus for this project is to build neural network architecture, so we won't ask you to create a preprocess pipeline.  Instead, we've provided you with the implementation of the `preprocess` function."
   ]
  },
  {
   "cell_type": "code",
   "execution_count": 9,
   "metadata": {},
   "outputs": [
    {
     "name": "stdout",
     "output_type": "stream",
     "text": [
      "Data Preprocessed\n",
      "Max English sentence length: 17\n",
      "Max French sentence length: 23\n",
      "English vocabulary size: 227\n",
      "French vocabulary size: 354\n"
     ]
    }
   ],
   "source": [
    "def preprocess(x, y):\n",
    "    \"\"\"\n",
    "    Preprocess x and y\n",
    "    :param x: Feature List of sentences\n",
    "    :param y: Label List of sentences\n",
    "    :return: Tuple of (Preprocessed x, Preprocessed y, x tokenizer, y tokenizer)\n",
    "    \"\"\"\n",
    "    preprocess_x, x_tk = tokenize(x)\n",
    "    preprocess_y, y_tk = tokenize(y)\n",
    "\n",
    "    preprocess_x = pad(preprocess_x)\n",
    "    preprocess_y = pad(preprocess_y)\n",
    "\n",
    "    # Keras's sparse_categorical_crossentropy function requires the labels to be in 3 dimensions\n",
    "    preprocess_y = preprocess_y.reshape(*preprocess_y.shape, 1)\n",
    "\n",
    "    return preprocess_x, preprocess_y, x_tk, y_tk\n",
    "\n",
    "preproc_english_sentences, preproc_french_sentences, english_tokenizer, french_tokenizer =\\\n",
    "    preprocess(english_sentences, french_sentences)\n",
    "    \n",
    "max_english_sequence_length = preproc_english_sentences.shape[1]\n",
    "max_french_sequence_length = preproc_french_sentences.shape[1]\n",
    "english_vocab_size = len(english_tokenizer.word_index)\n",
    "french_vocab_size = len(french_tokenizer.word_index)\n",
    "\n",
    "print('Data Preprocessed')\n",
    "print(\"Max English sentence length:\", max_english_sequence_length)\n",
    "print(\"Max French sentence length:\", max_french_sequence_length)\n",
    "print(\"English vocabulary size:\", english_vocab_size)\n",
    "print(\"French vocabulary size:\", french_vocab_size)"
   ]
  },
  {
   "cell_type": "markdown",
   "metadata": {},
   "source": [
    "## Models\n",
    "In this section, you will experiment with various neural network architectures.\n",
    "You will begin by training four relatively simple architectures.\n",
    "- Model 1 is a simple RNN\n",
    "- Model 2 is a RNN with Embedding\n",
    "- Model 3 is a Bidirectional RNN\n",
    "- Model 4 is an optional Encoder-Decoder RNN\n",
    "\n",
    "After experimenting with the four simple architectures, you will construct a deeper architecture that is designed to outperform all four models.\n",
    "### Ids Back to Text\n",
    "The neural network will be translating the input to words ids, which isn't the final form we want.  We want the French translation.  The function `logits_to_text` will bridge the gab between the logits from the neural network to the French translation.  You'll be using this function to better understand the output of the neural network."
   ]
  },
  {
   "cell_type": "code",
   "execution_count": 10,
   "metadata": {},
   "outputs": [
    {
     "name": "stdout",
     "output_type": "stream",
     "text": [
      "`logits_to_text` function loaded.\n"
     ]
    }
   ],
   "source": [
    "def logits_to_text(logits, tokenizer):\n",
    "    \"\"\"\n",
    "    Turn logits from a neural network into text using the tokenizer\n",
    "    :param logits: Logits from a neural network\n",
    "    :param tokenizer: Keras Tokenizer fit on the labels\n",
    "    :return: String that represents the text of the logits\n",
    "    \"\"\"\n",
    "    index_to_words = {id: word for word, id in tokenizer.word_index.items()}\n",
    "    index_to_words[0] = '<PAD>'\n",
    "\n",
    "    return ' '.join([index_to_words[prediction] for prediction in np.argmax(logits, 1)])\n",
    "\n",
    "print('`logits_to_text` function loaded.')"
   ]
  },
  {
   "cell_type": "markdown",
   "metadata": {},
   "source": [
    "### Model 1: RNN (IMPLEMENTATION)\n",
    "![RNN](images/rnn.png)\n",
    "A basic RNN model is a good baseline for sequence data.  In this model, you'll build a RNN that translates English to French."
   ]
  },
  {
   "cell_type": "code",
   "execution_count": 11,
   "metadata": {},
   "outputs": [
    {
     "name": "stdout",
     "output_type": "stream",
     "text": [
      "Train on 110288 samples, validate on 27573 samples\n",
      "Epoch 1/10\n",
      "110288/110288 [==============================] - 9s 79us/step - loss: 4.5073 - acc: 0.3575 - val_loss: nan - val_acc: 0.3823\n",
      "Epoch 2/10\n",
      "110288/110288 [==============================] - 7s 61us/step - loss: 2.9938 - acc: 0.3813 - val_loss: nan - val_acc: 0.3823\n",
      "Epoch 3/10\n",
      "110288/110288 [==============================] - 7s 62us/step - loss: 2.7605 - acc: 0.3854 - val_loss: nan - val_acc: 0.3943\n",
      "Epoch 4/10\n",
      "110288/110288 [==============================] - 7s 62us/step - loss: 2.6550 - acc: 0.4075 - val_loss: nan - val_acc: 0.4260\n",
      "Epoch 5/10\n",
      "110288/110288 [==============================] - 7s 62us/step - loss: 2.5879 - acc: 0.4297 - val_loss: nan - val_acc: 0.4343\n",
      "Epoch 6/10\n",
      "110288/110288 [==============================] - 7s 62us/step - loss: 2.5331 - acc: 0.4382 - val_loss: nan - val_acc: 0.4395\n",
      "Epoch 7/10\n",
      "110288/110288 [==============================] - 7s 62us/step - loss: 2.4843 - acc: 0.4401 - val_loss: nan - val_acc: 0.4402\n",
      "Epoch 8/10\n",
      "110288/110288 [==============================] - 7s 62us/step - loss: 2.4345 - acc: 0.4401 - val_loss: nan - val_acc: 0.4408\n",
      "Epoch 9/10\n",
      "110288/110288 [==============================] - 7s 62us/step - loss: 2.3804 - acc: 0.4423 - val_loss: nan - val_acc: 0.4459\n",
      "Epoch 10/10\n",
      "110288/110288 [==============================] - 7s 61us/step - loss: 2.3285 - acc: 0.4494 - val_loss: nan - val_acc: 0.4532\n",
      "les la est est en est en est est est . en en en est <PAD> <PAD> <PAD> <PAD> <PAD> <PAD> <PAD> <PAD>\n"
     ]
    }
   ],
   "source": [
    "def simple_model(input_shape, output_sequence_length, english_vocab_size, french_vocab_size):\n",
    "    \"\"\"\n",
    "    Build and train a basic RNN on x and y\n",
    "    :param input_shape: Tuple of input shape\n",
    "    :param output_sequence_length: Length of output sequence\n",
    "    :param english_vocab_size: Number of unique English words in the dataset\n",
    "    :param french_vocab_size: Number of unique French words in the dataset\n",
    "    :return: Keras model built, but not trained\n",
    "    \"\"\"\n",
    "    # TODO: Build the layers\n",
    "    learning_rate = 0.001\n",
    "    \n",
    "    inputs = Input(input_shape[1:]) # input layer (first element removed because it represents N samples)\n",
    "    layer1 = GRU(units=output_sequence_length,\n",
    "                 return_sequences=True)(inputs) # a RNN layer with sequences as output\n",
    "    \n",
    "    # below is the outputs layer with vocab size\n",
    "    # wrapped in TimeDistributed layer to apply Dense on each word in a sequence\n",
    "    # also, softmax activation is used for multi-class classification\n",
    "    outputs = TimeDistributed(Dense(units=french_vocab_size,\n",
    "                                          activation='softmax'))(layer1)\n",
    "\n",
    "    model = Model(inputs=inputs, outputs=outputs)\n",
    "    model.compile(loss=sparse_categorical_crossentropy,\n",
    "                  optimizer=Adam(learning_rate),\n",
    "                  metrics=['accuracy'])\n",
    "    return model\n",
    "tests.test_simple_model(simple_model)\n",
    "\n",
    "# Reshaping the input to work with a basic RNN\n",
    "tmp_x = pad(preproc_english_sentences, max_french_sequence_length)\n",
    "tmp_x = tmp_x.reshape((-1, preproc_french_sentences.shape[-2], 1))\n",
    "\n",
    "# Train the neural network\n",
    "simple_rnn_model = simple_model(\n",
    "    tmp_x.shape,\n",
    "    max_french_sequence_length,\n",
    "    english_vocab_size,\n",
    "    french_vocab_size)\n",
    "simple_rnn_model.fit(tmp_x, preproc_french_sentences, batch_size=1024, epochs=10, validation_split=0.2)\n",
    "\n",
    "# Print prediction(s)\n",
    "print(logits_to_text(simple_rnn_model.predict(tmp_x[:1])[0], french_tokenizer))"
   ]
  },
  {
   "cell_type": "markdown",
   "metadata": {},
   "source": [
    "### Model 2: Embedding (IMPLEMENTATION)\n",
    "![RNN](images/embedding.png)\n",
    "You've turned the words into ids, but there's a better representation of a word.  This is called word embeddings.  An embedding is a vector representation of the word that is close to similar words in n-dimensional space, where the n represents the size of the embedding vectors.\n",
    "\n",
    "In this model, you'll create a RNN model using embedding."
   ]
  },
  {
   "cell_type": "code",
   "execution_count": 12,
   "metadata": {},
   "outputs": [
    {
     "name": "stdout",
     "output_type": "stream",
     "text": [
      "Train on 110288 samples, validate on 27573 samples\n",
      "Epoch 1/10\n",
      "110288/110288 [==============================] - 8s 74us/step - loss: 4.3611 - acc: 0.3783 - val_loss: nan - val_acc: 0.3823\n",
      "Epoch 2/10\n",
      "110288/110288 [==============================] - 8s 71us/step - loss: 3.0860 - acc: 0.3826 - val_loss: nan - val_acc: 0.3898\n",
      "Epoch 3/10\n",
      "110288/110288 [==============================] - 8s 70us/step - loss: 2.4042 - acc: 0.4726 - val_loss: nan - val_acc: 0.5473\n",
      "Epoch 4/10\n",
      "110288/110288 [==============================] - 8s 70us/step - loss: 1.8441 - acc: 0.5723 - val_loss: nan - val_acc: 0.6006\n",
      "Epoch 5/10\n",
      "110288/110288 [==============================] - 8s 71us/step - loss: 1.5556 - acc: 0.6161 - val_loss: nan - val_acc: 0.6326\n",
      "Epoch 6/10\n",
      "110288/110288 [==============================] - 8s 72us/step - loss: 1.3802 - acc: 0.6429 - val_loss: nan - val_acc: 0.6561\n",
      "Epoch 7/10\n",
      "110288/110288 [==============================] - 8s 71us/step - loss: 1.2468 - acc: 0.6690 - val_loss: nan - val_acc: 0.6952\n",
      "Epoch 8/10\n",
      "110288/110288 [==============================] - 8s 71us/step - loss: 1.1223 - acc: 0.7100 - val_loss: nan - val_acc: 0.7249\n",
      "Epoch 9/10\n",
      "110288/110288 [==============================] - 8s 71us/step - loss: 1.0317 - acc: 0.7303 - val_loss: nan - val_acc: 0.7402\n",
      "Epoch 10/10\n",
      "110288/110288 [==============================] - 8s 71us/step - loss: 0.9656 - acc: 0.7433 - val_loss: nan - val_acc: 0.7503\n",
      "new jersey est parfois calme en l' , , il il est parfois avril . <PAD> <PAD> <PAD> <PAD> <PAD> <PAD> <PAD> <PAD>\n"
     ]
    }
   ],
   "source": [
    "def embed_model(input_shape, output_sequence_length, english_vocab_size, french_vocab_size):\n",
    "    \"\"\"\n",
    "    Build and train a RNN model using word embedding on x and y\n",
    "    :param input_shape: Tuple of input shape\n",
    "    :param output_sequence_length: Length of output sequence\n",
    "    :param english_vocab_size: Number of unique English words in the dataset\n",
    "    :param french_vocab_size: Number of unique French words in the dataset\n",
    "    :return: Keras model built, but not trained\n",
    "    \"\"\"\n",
    "    # TODO: Implement\n",
    "    learning_rate = 0.001\n",
    "    \n",
    "    inputs = Input(input_shape[1:]) # input layer (first element removed because it represents N samples)\n",
    "    embed = Embedding(input_dim=english_vocab_size+1, # size of the vocab which starts from 0, so add 1\n",
    "                      output_dim=100, # I tried a large value for embedding dim which gave good results\n",
    "                      input_length=output_sequence_length)(inputs) # set the max sequence length\n",
    "    rnn_gru = GRU(units=output_sequence_length,\n",
    "                  return_sequences=True)(embed) # pass through an RNN layer \n",
    "    \n",
    "    # outputs layer with vocab size wrapped in TimeDistributed layer\n",
    "    # also, softmax activation is used for multi-class classification\n",
    "    outputs = TimeDistributed(Dense(units=french_vocab_size,\n",
    "                                    activation='softmax'))(rnn_gru)\n",
    "\n",
    "    model = Model(inputs=inputs, outputs=outputs)\n",
    "    model.compile(loss=sparse_categorical_crossentropy,\n",
    "                  optimizer=Adam(learning_rate),\n",
    "                  metrics=['accuracy'])\n",
    "    return model    \n",
    "tests.test_embed_model(embed_model)\n",
    "\n",
    "\n",
    "# TODO: Reshape the input\n",
    "tmp_x = pad(preproc_english_sentences, max_french_sequence_length) # only pad no reshaping, embedding layer will do the job\n",
    "\n",
    "# TODO: Train the neural network\n",
    "embed_rnn_model = embed_model(\n",
    "    tmp_x.shape,\n",
    "    max_french_sequence_length,\n",
    "    english_vocab_size,\n",
    "    french_vocab_size)\n",
    "embed_rnn_model.fit(tmp_x, preproc_french_sentences, batch_size=1024, epochs=10, validation_split=0.2)\n",
    "\n",
    "# TODO: Print prediction(s)\n",
    "print(logits_to_text(embed_rnn_model.predict(tmp_x[:1])[0], french_tokenizer))"
   ]
  },
  {
   "cell_type": "markdown",
   "metadata": {},
   "source": [
    "### Model 3: Bidirectional RNNs (IMPLEMENTATION)\n",
    "![RNN](images/bidirectional.png)\n",
    "One restriction of a RNN is that it can't see the future input, only the past.  This is where bidirectional recurrent neural networks come in.  They are able to see the future data."
   ]
  },
  {
   "cell_type": "code",
   "execution_count": 13,
   "metadata": {},
   "outputs": [
    {
     "name": "stdout",
     "output_type": "stream",
     "text": [
      "Train on 110288 samples, validate on 27573 samples\n",
      "Epoch 1/10\n",
      "110288/110288 [==============================] - 11s 96us/step - loss: 4.3523 - acc: 0.3674 - val_loss: nan - val_acc: 0.4323\n",
      "Epoch 2/10\n",
      "110288/110288 [==============================] - 10s 90us/step - loss: 2.6455 - acc: 0.4446 - val_loss: nan - val_acc: 0.4455\n",
      "Epoch 3/10\n",
      "110288/110288 [==============================] - 10s 90us/step - loss: 2.4197 - acc: 0.4542 - val_loss: nan - val_acc: 0.4682\n",
      "Epoch 4/10\n",
      "110288/110288 [==============================] - 10s 91us/step - loss: 2.2511 - acc: 0.4824 - val_loss: nan - val_acc: 0.5014\n",
      "Epoch 5/10\n",
      "110288/110288 [==============================] - 10s 91us/step - loss: 2.0803 - acc: 0.5168 - val_loss: nan - val_acc: 0.5342\n",
      "Epoch 6/10\n",
      "110288/110288 [==============================] - 10s 91us/step - loss: 1.9312 - acc: 0.5415 - val_loss: nan - val_acc: 0.5478\n",
      "Epoch 7/10\n",
      "110288/110288 [==============================] - 10s 91us/step - loss: 1.8217 - acc: 0.5486 - val_loss: nan - val_acc: 0.5512\n",
      "Epoch 8/10\n",
      "110288/110288 [==============================] - 10s 91us/step - loss: 1.7398 - acc: 0.5584 - val_loss: nan - val_acc: 0.5659\n",
      "Epoch 9/10\n",
      "110288/110288 [==============================] - 10s 90us/step - loss: 1.6783 - acc: 0.5696 - val_loss: nan - val_acc: 0.5748\n",
      "Epoch 10/10\n",
      "110288/110288 [==============================] - 10s 90us/step - loss: 1.6292 - acc: 0.5756 - val_loss: nan - val_acc: 0.5790\n",
      "new jersey est est en en en , , il est est en en . <PAD> <PAD> <PAD> <PAD> <PAD> <PAD> <PAD> <PAD>\n"
     ]
    }
   ],
   "source": [
    "def bd_model(input_shape, output_sequence_length, english_vocab_size, french_vocab_size):\n",
    "    \"\"\"\n",
    "    Build and train a bidirectional RNN model on x and y\n",
    "    :param input_shape: Tuple of input shape\n",
    "    :param output_sequence_length: Length of output sequence\n",
    "    :param english_vocab_size: Number of unique English words in the dataset\n",
    "    :param french_vocab_size: Number of unique French words in the dataset\n",
    "    :return: Keras model built, but not trained\n",
    "    \"\"\"\n",
    "    # TODO: Implement\n",
    "    learning_rate = 0.001\n",
    "    \n",
    "    inputs = Input(input_shape[1:]) # input layer (first element removed because it represents N samples)\n",
    "\n",
    "    # below is the RNN layer\n",
    "    # wrapped in Bidirectional layer to provide reversed layers\n",
    "    # By default, the layers will be concatenated\n",
    "    layer1 = Bidirectional(GRU(units=output_sequence_length,\n",
    "                               return_sequences=True))(inputs)\n",
    "    \n",
    "    # outputs layer with vocab size wrapped in TimeDistributed layer\n",
    "    # also, softmax activation is used for multi-class classification\n",
    "    outputs = TimeDistributed(Dense(units=french_vocab_size,\n",
    "                                    activation='softmax'))(layer1)\n",
    "\n",
    "    model = Model(inputs=inputs, outputs=outputs)\n",
    "    model.compile(loss=sparse_categorical_crossentropy,\n",
    "                  optimizer=Adam(learning_rate),\n",
    "                  metrics=['accuracy'])\n",
    "    return model\n",
    "tests.test_bd_model(bd_model)\n",
    "\n",
    "\n",
    "# TODO: Train and Print prediction(s)\n",
    "\n",
    "# Reshaping the input to work with a Bidirectional RNN\n",
    "tmp_x = pad(preproc_english_sentences, max_french_sequence_length)\n",
    "tmp_x = tmp_x.reshape((-1, preproc_french_sentences.shape[-2], 1))\n",
    "\n",
    "# Train the neural network\n",
    "bd_rnn_model = bd_model(\n",
    "    tmp_x.shape,\n",
    "    max_french_sequence_length,\n",
    "    english_vocab_size,\n",
    "    french_vocab_size)\n",
    "bd_rnn_model.fit(tmp_x, preproc_french_sentences, batch_size=1024, epochs=10, validation_split=0.2)\n",
    "\n",
    "# Print prediction(s)\n",
    "print(logits_to_text(bd_rnn_model.predict(tmp_x[:1])[0], french_tokenizer))"
   ]
  },
  {
   "cell_type": "markdown",
   "metadata": {},
   "source": [
    "### Model 4: Encoder-Decoder (OPTIONAL)\n",
    "Time to look at encoder-decoder models.  This model is made up of an encoder and decoder. The encoder creates a matrix representation of the sentence.  The decoder takes this matrix as input and predicts the translation as output.\n",
    "\n",
    "Create an encoder-decoder model in the cell below."
   ]
  },
  {
   "cell_type": "code",
   "execution_count": 14,
   "metadata": {},
   "outputs": [
    {
     "name": "stdout",
     "output_type": "stream",
     "text": [
      "Train on 110288 samples, validate on 27573 samples\n",
      "Epoch 1/10\n",
      "110288/110288 [==============================] - 24s 219us/step - loss: 2.7221 - acc: 0.4471 - val_loss: nan - val_acc: 0.5043\n",
      "Epoch 2/10\n",
      "110288/110288 [==============================] - 23s 211us/step - loss: 1.9486 - acc: 0.5286 - val_loss: nan - val_acc: 0.5459\n",
      "Epoch 3/10\n",
      "110288/110288 [==============================] - 23s 211us/step - loss: 1.6581 - acc: 0.5590 - val_loss: nan - val_acc: 0.5689\n",
      "Epoch 4/10\n",
      "110288/110288 [==============================] - 23s 211us/step - loss: 1.5518 - acc: 0.5729 - val_loss: nan - val_acc: 0.5799\n",
      "Epoch 5/10\n",
      "110288/110288 [==============================] - 23s 211us/step - loss: 1.4732 - acc: 0.5880 - val_loss: nan - val_acc: 0.6016\n",
      "Epoch 6/10\n",
      "110288/110288 [==============================] - 23s 211us/step - loss: 1.3936 - acc: 0.6045 - val_loss: nan - val_acc: 0.6043\n",
      "Epoch 7/10\n",
      "110288/110288 [==============================] - 23s 211us/step - loss: 1.3391 - acc: 0.6151 - val_loss: nan - val_acc: 0.6214\n",
      "Epoch 8/10\n",
      "110288/110288 [==============================] - 23s 211us/step - loss: 1.2977 - acc: 0.6226 - val_loss: nan - val_acc: 0.6125\n",
      "Epoch 9/10\n",
      "110288/110288 [==============================] - 23s 211us/step - loss: 1.2703 - acc: 0.6262 - val_loss: nan - val_acc: 0.6303\n",
      "Epoch 10/10\n",
      "110288/110288 [==============================] - 23s 211us/step - loss: 1.2338 - acc: 0.6329 - val_loss: nan - val_acc: 0.6354\n",
      "new jersey est jamais agréable en mois , et il est est en en . <PAD> <PAD> <PAD> <PAD> <PAD> <PAD> <PAD> <PAD>\n"
     ]
    }
   ],
   "source": [
    "# Refrences\n",
    "# https://blog.keras.io/building-autoencoders-in-keras.html\n",
    "\n",
    "def encdec_model(input_shape, output_sequence_length, english_vocab_size, french_vocab_size):\n",
    "    \"\"\"\n",
    "    Build and train an encoder-decoder model on x and y\n",
    "    :param input_shape: Tuple of input shape\n",
    "    :param output_sequence_length: Length of output sequence\n",
    "    :param english_vocab_size: Number of unique English words in the dataset\n",
    "    :param french_vocab_size: Number of unique French words in the dataset\n",
    "    :return: Keras model built, but not trained\n",
    "    \"\"\"\n",
    "    \n",
    "    # OPTIONAL: Implement\n",
    "    learning_rate = 0.001\n",
    "    \n",
    "    # encoder - passing through a 256 unit RNN layer\n",
    "    inputs = Input(shape=input_shape[1:])\n",
    "    encoded = GRU(256)(inputs)\n",
    "\n",
    "    # repeat above as many as the time steps\n",
    "    # to get the proper shape for the decoder\n",
    "    decoded = RepeatVector(output_sequence_length)(encoded)\n",
    "    decoded = GRU(french_vocab_size, return_sequences=True)(decoded)\n",
    "\n",
    "    # outputs layer\n",
    "    outputs = TimeDistributed(Dense(units=french_vocab_size,\n",
    "                                    activation='softmax'))(decoded)\n",
    "    \n",
    "    sequence_autoencoder = Model(inputs, outputs)\n",
    "    encoder = Model(inputs, encoded)\n",
    "\n",
    "    # create a placeholder for an encoded (32-dimensional) input\n",
    "    encoded_input = Input(encoded.shape)\n",
    "    # retrieve the decoded layer of the autoencoder model\n",
    "    # the last layer is the outputs layer(Dense) so try -2\n",
    "    decoder_layer = sequence_autoencoder.layers[-2]\n",
    "    # create the decoder model\n",
    "    decoder = Model(encoded_input, decoder_layer(encoded_input))\n",
    "    sequence_autoencoder.compile(loss=sparse_categorical_crossentropy,\n",
    "                                 optimizer=Adam(learning_rate),\n",
    "                                 metrics=['accuracy'])\n",
    "    \n",
    "    return sequence_autoencoder\n",
    "\n",
    "tests.test_encdec_model(encdec_model)\n",
    "\n",
    "\n",
    "# TODO: Train and Print prediction(s)\n",
    "\n",
    "# encdec model doesn't need the input to have the same shape as the output\n",
    "# so reshaping without padding\n",
    "tmp_x = preproc_english_sentences.reshape((-1, preproc_english_sentences.shape[-1], 1))\n",
    "\n",
    "encdec_rnn_model = encdec_model(\n",
    "    tmp_x.shape,\n",
    "    max_french_sequence_length,\n",
    "    english_vocab_size,\n",
    "    french_vocab_size)\n",
    "encdec_rnn_model.fit(tmp_x, preproc_french_sentences, batch_size=1024, epochs=10, validation_split=0.2)\n",
    "\n",
    "# Print prediction(s)\n",
    "print(logits_to_text(encdec_rnn_model.predict(tmp_x[:1])[0], french_tokenizer))"
   ]
  },
  {
   "cell_type": "markdown",
   "metadata": {},
   "source": [
    "### Model 5: Custom (IMPLEMENTATION)\n",
    "Use everything you learned from the previous models to create a model that incorporates embedding and a bidirectional rnn into one model."
   ]
  },
  {
   "cell_type": "code",
   "execution_count": 15,
   "metadata": {},
   "outputs": [
    {
     "name": "stdout",
     "output_type": "stream",
     "text": [
      "Final Model Loaded\n",
      "Train on 110288 samples, validate on 27573 samples\n",
      "Epoch 1/10\n",
      "110288/110288 [==============================] - 76s 693us/step - loss: 2.2330 - acc: 0.4908 - val_loss: nan - val_acc: 0.5942\n",
      "Epoch 2/10\n",
      "110288/110288 [==============================] - 75s 677us/step - loss: 1.1253 - acc: 0.6829 - val_loss: nan - val_acc: 0.7272\n",
      "Epoch 3/10\n",
      "110288/110288 [==============================] - 75s 676us/step - loss: 0.7581 - acc: 0.7768 - val_loss: nan - val_acc: 0.8201\n",
      "Epoch 4/10\n",
      "110288/110288 [==============================] - 75s 677us/step - loss: 0.4760 - acc: 0.8587 - val_loss: nan - val_acc: 0.9015\n",
      "Epoch 5/10\n",
      "110288/110288 [==============================] - 75s 678us/step - loss: 0.2803 - acc: 0.9199 - val_loss: nan - val_acc: 0.9355\n",
      "Epoch 6/10\n",
      "110288/110288 [==============================] - 75s 681us/step - loss: 0.1790 - acc: 0.9489 - val_loss: nan - val_acc: 0.9497\n",
      "Epoch 7/10\n",
      "110288/110288 [==============================] - 75s 680us/step - loss: 0.1604 - acc: 0.9533 - val_loss: nan - val_acc: 0.9606\n",
      "Epoch 8/10\n",
      "110288/110288 [==============================] - 75s 678us/step - loss: 0.1128 - acc: 0.9673 - val_loss: nan - val_acc: 0.9660\n",
      "Epoch 9/10\n",
      "110288/110288 [==============================] - 75s 679us/step - loss: 0.0942 - acc: 0.9726 - val_loss: nan - val_acc: 0.9699\n",
      "Epoch 10/10\n",
      "110288/110288 [==============================] - 75s 681us/step - loss: 0.0958 - acc: 0.9716 - val_loss: nan - val_acc: 0.9701\n",
      "new jersey est parfois calme pendant l' automne , et il est neigeux en avril . <PAD> <PAD> <PAD> <PAD> <PAD> <PAD> <PAD>\n"
     ]
    }
   ],
   "source": [
    "def model_final(input_shape, output_sequence_length, english_vocab_size, french_vocab_size):\n",
    "    \"\"\"\n",
    "    Build and train a model that incorporates embedding, encoder-decoder, and bidirectional RNN on x and y\n",
    "    :param input_shape: Tuple of input shape\n",
    "    :param output_sequence_length: Length of output sequence\n",
    "    :param english_vocab_size: Number of unique English words in the dataset\n",
    "    :param french_vocab_size: Number of unique French words in the dataset\n",
    "    :return: Keras model built, but not trained\n",
    "    \"\"\"\n",
    "    # TODO: Implement\n",
    "    \n",
    "    # tried different learning rates\n",
    "    # ranging from 0.001 to 0.006(included)\n",
    "    # and 0.005 gave the best result\n",
    "    learning_rate = 0.005\n",
    "    \n",
    "    # Applying embedding\n",
    "    inputs = Input(input_shape[1:]) # input layer (first element removed because it represents N samples)\n",
    "    embed = Embedding(input_dim=english_vocab_size+1, # size of the vocab which starts from 0, so add 1\n",
    "                      output_dim=100, # embedding dimension\n",
    "                      input_length=output_sequence_length)(inputs) # set the max sequence length\n",
    "\n",
    "    # encoding layer with Bidirectional RNN\n",
    "    # here, tried different number of RNN units\n",
    "    # 128, 256, 512 and 1024\n",
    "    # and 512 gave the best results\n",
    "    encoded = Bidirectional(GRU(512))(embed)\n",
    "\n",
    "    # decoding layers\n",
    "    decoded = RepeatVector(output_sequence_length)(encoded)\n",
    "    # applying Bidirectional RNN here too\n",
    "    # tried applying on only one side(enc or dec) but it wasn't good enough\n",
    "    decoded = Bidirectional(GRU(french_vocab_size, return_sequences=True))(decoded)\n",
    "    \n",
    "    # outputs layer\n",
    "    outputs = TimeDistributed(Dense(units=french_vocab_size,\n",
    "                                    activation='softmax'))(decoded)\n",
    "    \n",
    "    sequence_autoencoder = Model(inputs, outputs)\n",
    "    encoder = Model(inputs, encoded)\n",
    "\n",
    "    # create a placeholder for an encoded (32-dimensional) input\n",
    "    encoded_input = Input(encoded.shape)\n",
    "    # retrieve the decoded layer of the autoencoder model\n",
    "    # the last layer is the outputs layer(Dense) so try -2\n",
    "    decoder_layer = sequence_autoencoder.layers[-2]\n",
    "    # create the decoder model\n",
    "    decoder = Model(encoded_input, decoder_layer(encoded_input))\n",
    "    sequence_autoencoder.compile(loss=sparse_categorical_crossentropy,\n",
    "                                 optimizer=Adam(learning_rate),\n",
    "                                 metrics=['accuracy'])\n",
    "    \n",
    "    return sequence_autoencoder\n",
    "\n",
    "tests.test_model_final(model_final)\n",
    "\n",
    "\n",
    "print('Final Model Loaded')\n",
    "# TODO: Train the final model\n",
    "\n",
    "# don't need to pad(using encoder decoder model)\n",
    "# and don't need to reshape(using embedding layers)\n",
    "tmp_x = preproc_english_sentences\n",
    "\n",
    "# Train the neural network\n",
    "final_rnn_model = model_final(\n",
    "    tmp_x.shape,\n",
    "    max_french_sequence_length,\n",
    "    english_vocab_size,\n",
    "    french_vocab_size)\n",
    "final_rnn_model.fit(tmp_x, preproc_french_sentences, batch_size=1024, epochs=10, validation_split=0.2)\n",
    "\n",
    "# Print prediction(s)\n",
    "print(logits_to_text(final_rnn_model.predict(tmp_x[:1])[0], french_tokenizer))"
   ]
  },
  {
   "cell_type": "markdown",
   "metadata": {},
   "source": [
    "## Prediction (IMPLEMENTATION)"
   ]
  },
  {
   "cell_type": "code",
   "execution_count": 16,
   "metadata": {},
   "outputs": [
    {
     "name": "stdout",
     "output_type": "stream",
     "text": [
      "Train on 110288 samples, validate on 27573 samples\n",
      "Epoch 1/10\n",
      "110288/110288 [==============================] - 77s 695us/step - loss: 2.2258 - acc: 0.4934 - val_loss: nan - val_acc: 0.6112\n",
      "Epoch 2/10\n",
      "110288/110288 [==============================] - 75s 679us/step - loss: 1.1012 - acc: 0.6915 - val_loss: nan - val_acc: 0.7627\n",
      "Epoch 3/10\n",
      "110288/110288 [==============================] - 75s 678us/step - loss: 0.7107 - acc: 0.7933 - val_loss: nan - val_acc: 0.8474\n",
      "Epoch 4/10\n",
      "110288/110288 [==============================] - 75s 681us/step - loss: 0.4180 - acc: 0.8779 - val_loss: nan - val_acc: 0.9159\n",
      "Epoch 5/10\n",
      "110288/110288 [==============================] - 75s 680us/step - loss: 0.2487 - acc: 0.9274 - val_loss: nan - val_acc: 0.9288\n",
      "Epoch 6/10\n",
      "110288/110288 [==============================] - 75s 677us/step - loss: 0.1678 - acc: 0.9505 - val_loss: nan - val_acc: 0.9537\n",
      "Epoch 7/10\n",
      "110288/110288 [==============================] - 75s 681us/step - loss: 0.1304 - acc: 0.9611 - val_loss: nan - val_acc: 0.9632\n",
      "Epoch 8/10\n",
      "110288/110288 [==============================] - 75s 678us/step - loss: 0.1074 - acc: 0.9678 - val_loss: nan - val_acc: 0.9633\n",
      "Epoch 9/10\n",
      "110288/110288 [==============================] - 75s 680us/step - loss: 0.0991 - acc: 0.9699 - val_loss: nan - val_acc: 0.9695\n",
      "Epoch 10/10\n",
      "110288/110288 [==============================] - 75s 678us/step - loss: 0.0751 - acc: 0.9773 - val_loss: nan - val_acc: 0.9730\n",
      "Sample 1:\n",
      "il a vu un vieux camion jaune . <PAD> <PAD> <PAD> <PAD> <PAD> <PAD> <PAD> <PAD> <PAD> <PAD> <PAD> <PAD> <PAD> <PAD> <PAD>\n",
      "Il a vu un vieux camion jaune\n",
      "Sample 2:\n",
      "new jersey est parfois calme pendant l' automne , et il est neigeux en avril . <PAD> <PAD> <PAD> <PAD> <PAD> <PAD> <PAD>\n",
      "new jersey est parfois calme pendant l' automne , et il est neigeux en avril . <PAD> <PAD> <PAD> <PAD> <PAD> <PAD> <PAD>\n"
     ]
    }
   ],
   "source": [
    "def final_predictions(x, y, x_tk, y_tk):\n",
    "    \"\"\"\n",
    "    Gets predictions using the final model\n",
    "    :param x: Preprocessed English data\n",
    "    :param y: Preprocessed French data\n",
    "    :param x_tk: English tokenizer\n",
    "    :param y_tk: French tokenizer\n",
    "    \"\"\"\n",
    "    # TODO: Train neural network using model_final  \n",
    "\n",
    "    # get values for training\n",
    "    output_len = y.shape[1]\n",
    "    x_size = len(x_tk.word_index)\n",
    "    y_size = len(y_tk.word_index)\n",
    "\n",
    "    model = model_final(x.shape, \n",
    "                        output_len,\n",
    "                        x_size,\n",
    "                        y_size)\n",
    "    \n",
    "    # train\n",
    "    model.fit(x, y, batch_size=1024, epochs=10, validation_split=0.2)\n",
    "    \n",
    "    ## DON'T EDIT ANYTHING BELOW THIS LINE\n",
    "    y_id_to_word = {value: key for key, value in y_tk.word_index.items()}\n",
    "    y_id_to_word[0] = '<PAD>'\n",
    "\n",
    "    sentence = 'he saw a old yellow truck'\n",
    "    sentence = [x_tk.word_index[word] for word in sentence.split()]\n",
    "    sentence = pad_sequences([sentence], maxlen=x.shape[-1], padding='post')\n",
    "    sentences = np.array([sentence[0], x[0]])\n",
    "    predictions = model.predict(sentences, len(sentences))\n",
    "\n",
    "    print('Sample 1:')\n",
    "    print(' '.join([y_id_to_word[np.argmax(x)] for x in predictions[0]]))\n",
    "    print('Il a vu un vieux camion jaune')\n",
    "    print('Sample 2:')\n",
    "    print(' '.join([y_id_to_word[np.argmax(x)] for x in predictions[1]]))\n",
    "    print(' '.join([y_id_to_word[np.max(x)] for x in y[0]]))\n",
    "\n",
    "\n",
    "final_predictions(preproc_english_sentences, preproc_french_sentences, english_tokenizer, french_tokenizer)"
   ]
  },
  {
   "cell_type": "markdown",
   "metadata": {},
   "source": [
    "## Submission\n",
    "When you're ready to submit, complete the following steps:\n",
    "1. Review the [rubric](https://review.udacity.com/#!/rubrics/1004/view) to ensure your submission meets all requirements to pass\n",
    "2. Generate an HTML version of this notebook\n",
    "\n",
    "  - Run the next cell to attempt automatic generation (this is the recommended method in Workspaces)\n",
    "  - Navigate to **FILE -> Download as -> HTML (.html)**\n",
    "  - Manually generate a copy using `nbconvert` from your shell terminal\n",
    "```\n",
    "$ pip install nbconvert\n",
    "$ python -m nbconvert machine_translation.ipynb\n",
    "```\n",
    "  \n",
    "3. Submit the project\n",
    "\n",
    "  - If you are in a Workspace, simply click the \"Submit Project\" button (bottom towards the right)\n",
    "  \n",
    "  - Otherwise, add the following files into a zip archive and submit them \n",
    "  - `helper.py`\n",
    "  - `machine_translation.ipynb`\n",
    "  - `machine_translation.html`\n",
    "    - You can export the notebook by navigating to **File -> Download as -> HTML (.html)**."
   ]
  },
  {
   "cell_type": "code",
   "execution_count": 17,
   "metadata": {},
   "outputs": [
    {
     "data": {
      "text/plain": [
       "['[NbConvertApp] Converting notebook machine_translation.ipynb to html',\n",
       " '[NbConvertApp] Writing 359519 bytes to machine_translation.html']"
      ]
     },
     "execution_count": 17,
     "metadata": {},
     "output_type": "execute_result"
    }
   ],
   "source": [
    "!!python -m nbconvert *.ipynb"
   ]
  },
  {
   "cell_type": "markdown",
   "metadata": {},
   "source": [
    "## Optional Enhancements\n",
    "\n",
    "This project focuses on learning various network architectures for machine translation, but we don't evaluate the models according to best practices by splitting the data into separate test & training sets -- so the model accuracy is overstated. Use the [`sklearn.model_selection.train_test_split()`](http://scikit-learn.org/stable/modules/generated/sklearn.model_selection.train_test_split.html) function to create separate training & test datasets, then retrain each of the models using only the training set and evaluate the prediction accuracy using the hold out test set. Does the \"best\" model change?"
   ]
  },
  {
   "cell_type": "markdown",
   "metadata": {},
   "source": [
    "A: I tried splitting the data into train / testset and training the model only on the trainset.\n",
    "With smaller trainset, the model's loss seems to oscillate a little bit more than previous attempts but it eventually managed to learn the data pretty well.\n",
    "After training, I computed the accuracy of the model on the testset which also gave pretty good score.\n",
    "I also printed out some testset vs predictions sample and they also look nice."
   ]
  },
  {
   "cell_type": "code",
   "execution_count": 18,
   "metadata": {},
   "outputs": [
    {
     "name": "stdout",
     "output_type": "stream",
     "text": [
      "Train on 88230 samples, validate on 22058 samples\n",
      "Epoch 1/10\n",
      "88230/88230 [==============================] - 62s 701us/step - loss: 2.3189 - acc: 0.4858 - val_loss: 1.4456 - val_acc: 0.6104\n",
      "Epoch 2/10\n",
      "88230/88230 [==============================] - 60s 679us/step - loss: 1.2253 - acc: 0.6608 - val_loss: 0.9845 - val_acc: 0.7178\n",
      "Epoch 3/10\n",
      "88230/88230 [==============================] - 60s 678us/step - loss: 0.8504 - acc: 0.7492 - val_loss: 0.6878 - val_acc: 0.7936\n",
      "Epoch 4/10\n",
      "88230/88230 [==============================] - 60s 682us/step - loss: 0.5278 - acc: 0.8422 - val_loss: 0.3987 - val_acc: 0.8796\n",
      "Epoch 5/10\n",
      "88230/88230 [==============================] - 60s 685us/step - loss: 0.3196 - acc: 0.9059 - val_loss: 0.2590 - val_acc: 0.9245\n",
      "Epoch 6/10\n",
      "88230/88230 [==============================] - 60s 684us/step - loss: 0.2137 - acc: 0.9372 - val_loss: 0.1968 - val_acc: 0.9413\n",
      "Epoch 7/10\n",
      "88230/88230 [==============================] - 60s 683us/step - loss: 0.1963 - acc: 0.9408 - val_loss: 0.1795 - val_acc: 0.9449\n",
      "Epoch 8/10\n",
      "88230/88230 [==============================] - 60s 679us/step - loss: 0.1428 - acc: 0.9568 - val_loss: 0.1324 - val_acc: 0.9593\n",
      "Epoch 9/10\n",
      "88230/88230 [==============================] - 60s 680us/step - loss: 0.1128 - acc: 0.9660 - val_loss: 0.1281 - val_acc: 0.9603\n",
      "Epoch 10/10\n",
      "88230/88230 [==============================] - 60s 680us/step - loss: 0.1005 - acc: 0.9696 - val_loss: 0.1153 - val_acc: 0.9642\n",
      "Test accuracy: 0.9632532770716155\n",
      "ils aiment les raisins , les poires et les fraises . <PAD> <PAD> <PAD> <PAD> <PAD> <PAD> <PAD> <PAD> <PAD> <PAD> <PAD> <PAD>\n",
      "ils aiment les raisins , les poires et les fraises . <PAD> <PAD> <PAD> <PAD> <PAD> <PAD> <PAD> <PAD> <PAD> <PAD> <PAD> <PAD>\n"
     ]
    }
   ],
   "source": [
    "from sklearn.model_selection import train_test_split\n",
    "\n",
    "# splitting data\n",
    "X_train, X_test, y_train, y_test = train_test_split(\n",
    "    preproc_english_sentences, preproc_french_sentences, test_size=0.2)\n",
    "\n",
    "# train the model\n",
    "input_shape = X_train.shape\n",
    "output_len = y_train.shape[1]\n",
    "x_size = len(english_tokenizer.word_index)\n",
    "y_size = len(french_tokenizer.word_index)\n",
    "\n",
    "model = model_final(input_shape, \n",
    "                    output_len,\n",
    "                    x_size,\n",
    "                    y_size)\n",
    "\n",
    "# train\n",
    "model.fit(X_train, y_train, batch_size=1024, epochs=10, validation_split=0.2)\n",
    "\n",
    "#########\n",
    "# below are testing processes\n",
    "predictions = model.predict(X_test)\n",
    "\n",
    "# convert predictions into a 2d array with argmax for selecting words\n",
    "convert_preds = []\n",
    "for sample in predictions:\n",
    "    converted = []\n",
    "    for sequence in sample:\n",
    "        converted.append(np.argmax(sequence))\n",
    "    convert_preds.append(converted)\n",
    "        \n",
    "convert_preds = np.array(convert_preds)\n",
    "\n",
    "# convert test sample into a 2d array\n",
    "convert_test = y_test.reshape(y_test.shape[:-1])\n",
    "\n",
    "# find test accuracy\n",
    "test_acc = np.sum(convert_preds == convert_test) / (convert_preds.shape[0] * convert_preds.shape[1])\n",
    "\n",
    "print('Test accuracy: {}'.format(test_acc))\n",
    "\n",
    "# print samples\n",
    "y_id_to_word = {value: key for key, value in french_tokenizer.word_index.items()}\n",
    "y_id_to_word[0] = '<PAD>'\n",
    "\n",
    "print(' '.join([y_id_to_word[np.argmax(x)] for x in predictions[9]]))\n",
    "print(' '.join([y_id_to_word[np.max(x)] for x in y_test[9]]))"
   ]
  }
 ],
 "metadata": {
  "kernelspec": {
   "display_name": "Python 3",
   "language": "python",
   "name": "python3"
  },
  "language_info": {
   "codemirror_mode": {
    "name": "ipython",
    "version": 3
   },
   "file_extension": ".py",
   "mimetype": "text/x-python",
   "name": "python",
   "nbconvert_exporter": "python",
   "pygments_lexer": "ipython3",
   "version": "3.6.3"
  }
 },
 "nbformat": 4,
 "nbformat_minor": 1
}
